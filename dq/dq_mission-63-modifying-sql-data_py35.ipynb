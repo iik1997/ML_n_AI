{
 "cells": [
  {
   "cell_type": "markdown",
   "metadata": {},
   "source": [
    "A dataquest mission is covered here:\n",
    "* https://www.dataquest.io/mission/63/modifying-data"
   ]
  },
  {
   "cell_type": "code",
   "execution_count": 1,
   "metadata": {
    "collapsed": true
   },
   "outputs": [],
   "source": [
    "import pyspark\n",
    "sc = pyspark.SparkContext('local[*]')"
   ]
  },
  {
   "cell_type": "code",
   "execution_count": 2,
   "metadata": {
    "collapsed": true
   },
   "outputs": [],
   "source": [
    "# do something to prove it works\n",
    "rdd = sc.parallelize(range(1000))\n",
    "###rdd.takeSample(False, 5)"
   ]
  },
  {
   "cell_type": "code",
   "execution_count": 3,
   "metadata": {
    "collapsed": false
   },
   "outputs": [],
   "source": [
    "### http://www.cdotson.com/2014/06/generating-json-documents-from-sqlite-databases-in-python/\n",
    "#import sqlite3\n",
    "#def dict_factory(cursor, row):\n",
    "#    d = {}\n",
    "#    for idx, col in enumerate(cursor.description):\n",
    "#        d[col[0]] = row[idx]\n",
    "#    return d\n",
    "# \n",
    "#connection = sqlite3.connect(\"factbook.db\")\n",
    "#connection.row_factory = dict_factory\n",
    "# \n",
    "#cursor = connection.cursor()\n",
    "# \n",
    "#cursor.execute(\"select * from facts\")\n",
    "# \n",
    "# fetch all or one we'll go for all.\n",
    "# \n",
    "#results = cursor.fetchall()\n",
    "# \n",
    "###print(results)\n",
    "#import sys\n",
    "#with open('factbook.json', 'w') as f:\n",
    "#    sys.stdout = f\n",
    "#    print (results)\n",
    "#    \n",
    "#connection.close()"
   ]
  },
  {
   "cell_type": "code",
   "execution_count": 4,
   "metadata": {
    "collapsed": false
   },
   "outputs": [
    {
     "name": "stdout",
     "output_type": "stream",
     "text": [
      "Row(_corrupt_record=None, area=652230, area_land=652230, area_water=0, birth_rate=38.57, code='af', created_at='2015-11-01 13:19:49.461734', death_rate=13.89, id=1, migration_rate=1.51, name='Afghanistan', population=32564342, population_growth=2.32, updated_at='2015-11-01 13:19:49.461734')\n",
      "Row(_corrupt_record=None, area=28748, area_land=27398, area_water=1350, birth_rate=12.92, code='al', created_at='2015-11-01 13:19:54.431082', death_rate=6.58, id=2, migration_rate=3.3, name='Albania', population=3029278, population_growth=0.3, updated_at='2015-11-01 13:19:54.431082')\n",
      "Row(_corrupt_record=None, area=2381741, area_land=2381741, area_water=0, birth_rate=23.67, code='ag', created_at='2015-11-01 13:19:59.961286', death_rate=4.31, id=3, migration_rate=0.92, name='Algeria', population=39542166, population_growth=1.84, updated_at='2015-11-01 13:19:59.961286')\n",
      "Row(_corrupt_record=None, area=468, area_land=468, area_water=0, birth_rate=8.13, code='an', created_at='2015-11-01 13:20:03.659945', death_rate=6.96, id=4, migration_rate=0.0, name='Andorra', population=85580, population_growth=0.12, updated_at='2015-11-01 13:20:03.659945')\n",
      "Row(_corrupt_record=None, area=1246700, area_land=1246700, area_water=0, birth_rate=38.78, code='ao', created_at='2015-11-01 13:20:08.625072', death_rate=11.49, id=5, migration_rate=0.46, name='Angola', population=19625353, population_growth=2.78, updated_at='2015-11-01 13:20:08.625072')\n"
     ]
    }
   ],
   "source": [
    "# Import SQLContext\n",
    "from pyspark.sql import SQLContext\n",
    "\n",
    "# Pass in the SparkContext object `sc`\n",
    "sqlCtx = SQLContext(sc)\n",
    "\n",
    "# Read JSON data into DataFrame object `df`\n",
    "df00 = sqlCtx.read.json(\"factbook.json\")\n",
    "f00 = df00.head(5)\n",
    "for r00 in f00:\n",
    "    print(r00)\n",
    "df = df00.drop('_corrupt_record')"
   ]
  },
  {
   "cell_type": "code",
   "execution_count": 5,
   "metadata": {
    "collapsed": false
   },
   "outputs": [
    {
     "name": "stdout",
     "output_type": "stream",
     "text": [
      "root\n",
      " |-- area: long (nullable = true)\n",
      " |-- area_land: long (nullable = true)\n",
      " |-- area_water: long (nullable = true)\n",
      " |-- birth_rate: double (nullable = true)\n",
      " |-- code: string (nullable = true)\n",
      " |-- created_at: string (nullable = true)\n",
      " |-- death_rate: double (nullable = true)\n",
      " |-- id: long (nullable = true)\n",
      " |-- migration_rate: double (nullable = true)\n",
      " |-- name: string (nullable = true)\n",
      " |-- population: long (nullable = true)\n",
      " |-- population_growth: double (nullable = true)\n",
      " |-- updated_at: string (nullable = true)\n",
      "\n"
     ]
    }
   ],
   "source": [
    "df.printSchema()"
   ]
  },
  {
   "cell_type": "code",
   "execution_count": 6,
   "metadata": {
    "collapsed": false
   },
   "outputs": [
    {
     "name": "stdout",
     "output_type": "stream",
     "text": [
      "['facts']\n"
     ]
    }
   ],
   "source": [
    "#preparations before running  SQL queries\n",
    "df.registerTempTable(\"facts\")\n",
    "tables=sqlCtx.tableNames()\n",
    "print(tables)\n",
    "#query = 'SELECT males, females FROM census2010 WHERE age > 5 AND age < 15'\n",
    "#sqlCtx.sql(query).show()"
   ]
  },
  {
   "cell_type": "code",
   "execution_count": 7,
   "metadata": {
    "collapsed": false
   },
   "outputs": [
    {
     "name": "stdout",
     "output_type": "stream",
     "text": [
      "+-------+---------+----------+----------+----+--------------------+----------+---+--------------+-------------------+----------+-----------------+--------------------+\n",
      "|   area|area_land|area_water|birth_rate|code|          created_at|death_rate| id|migration_rate|               name|population|population_growth|          updated_at|\n",
      "+-------+---------+----------+----------+----+--------------------+----------+---+--------------+-------------------+----------+-----------------+--------------------+\n",
      "| 652230|   652230|         0|     38.57|  af|2015-11-01 13:19:...|     13.89|  1|          1.51|        Afghanistan|  32564342|             2.32|2015-11-01 13:19:...|\n",
      "|  28748|    27398|      1350|     12.92|  al|2015-11-01 13:19:...|      6.58|  2|           3.3|            Albania|   3029278|              0.3|2015-11-01 13:19:...|\n",
      "|2381741|  2381741|         0|     23.67|  ag|2015-11-01 13:19:...|      4.31|  3|          0.92|            Algeria|  39542166|             1.84|2015-11-01 13:19:...|\n",
      "|    468|      468|         0|      8.13|  an|2015-11-01 13:20:...|      6.96|  4|           0.0|            Andorra|     85580|             0.12|2015-11-01 13:20:...|\n",
      "|1246700|  1246700|         0|     38.78|  ao|2015-11-01 13:20:...|     11.49|  5|          0.46|             Angola|  19625353|             2.78|2015-11-01 13:20:...|\n",
      "|    442|      442|         0|     15.85|  ac|2015-11-01 13:20:...|      5.69|  6|          2.21|Antigua and Barbuda|     92436|             1.24|2015-11-01 13:20:...|\n",
      "|2780400|  2736690|     43710|     16.64|  ar|2015-11-01 13:20:...|      7.33|  7|           0.0|          Argentina|  43431886|             0.93|2015-11-01 13:20:...|\n",
      "|  29743|    28203|      1540|     13.61|  am|2015-11-01 13:20:...|      9.34|  8|           5.8|            Armenia|   3056382|             0.15|2015-11-01 13:20:...|\n",
      "|7741220|  7682300|     58920|     12.15|  as|2015-11-01 13:20:...|      7.14|  9|          5.65|          Australia|  22751014|             1.07|2015-11-01 13:20:...|\n",
      "|  83871|    82445|      1426|      9.41|  au|2015-11-01 13:20:...|      9.42| 10|          5.56|            Austria|   8665550|             0.55|2015-11-01 13:20:...|\n",
      "|  86600|    82629|      3971|     16.64|  aj|2015-11-01 13:20:...|      7.07| 11|           0.0|         Azerbaijan|   9780780|             0.96|2015-11-01 13:20:...|\n",
      "|  13880|    10010|      3870|      15.5|  bf|2015-11-01 13:20:...|      7.05| 12|           0.0|       Bahamas, The|    324597|             0.85|2015-11-01 13:20:...|\n",
      "|    760|      760|         0|     13.66|  ba|2015-11-01 13:20:...|      2.69| 13|         13.09|            Bahrain|   1346613|             2.41|2015-11-01 13:20:...|\n",
      "| 148460|   130170|     18290|     21.14|  bg|2015-11-01 13:20:...|      5.61| 14|          0.46|         Bangladesh| 168957745|              1.6|2015-11-01 13:20:...|\n",
      "|    430|      430|         0|     11.87|  bb|2015-11-01 13:20:...|      8.44| 15|           0.3|           Barbados|    290604|             0.31|2015-11-01 13:20:...|\n",
      "| 207600|   202900|      4700|      10.7|  bo|2015-11-01 13:21:...|     13.36| 16|           0.7|            Belarus|   9589689|              0.2|2015-11-01 13:21:...|\n",
      "|  30528|    30278|       250|     11.41|  be|2015-11-01 13:21:...|      9.63| 17|          5.87|            Belgium|  11323973|             0.76|2015-11-01 13:21:...|\n",
      "|  22966|    22806|       160|     24.68|  bh|2015-11-01 13:21:...|      5.97| 18|           0.0|             Belize|    347369|             1.87|2015-11-01 13:21:...|\n",
      "| 112622|   110622|      2000|     36.02|  bn|2015-11-01 13:21:...|      8.21| 19|           0.0|              Benin|  10448647|             2.78|2015-11-01 13:21:...|\n",
      "|  38394|    38394|         0|     17.78|  bt|2015-11-01 13:21:...|      6.69| 20|           0.0|             Bhutan|    741919|             1.11|2015-11-01 13:21:...|\n",
      "+-------+---------+----------+----------+----+--------------------+----------+---+--------------+-------------------+----------+-----------------+--------------------+\n",
      "only showing top 20 rows\n",
      "\n"
     ]
    }
   ],
   "source": [
    "query = \"\"\"\n",
    "SELECT * FROM facts \n",
    "WHERE updated_at > \"2015-10-30 16:00\"\n",
    "AND updated_at < \"2015-11-02 15:00\"\n",
    "\"\"\"\n",
    "sqlCtx.sql(query).show()"
   ]
  },
  {
   "cell_type": "markdown",
   "metadata": {},
   "source": [
    "This was executed **locally** on a laptop:\n",
    "\n",
    "<pre>\n",
    "sqlite3 ~/Downloads/factbook.db \n",
    "SQLite version 3.8.4.1 2014-03-11 15:27:36\n",
    "Enter \".help\" for usage hints.\n",
    "sqlite> PRAGMA table_info(facts);    \n",
    "0|id|INTEGER|1||1\n",
    "1|code|varchar(255)|1||0\n",
    "2|name|varchar(255)|1||0\n",
    "3|area|integer|0||0\n",
    "4|area_land|integer|0||0\n",
    "5|area_water|integer|0||0\n",
    "6|population|integer|0||0\n",
    "7|population_growth|float|0||0\n",
    "8|birth_rate|float|0||0\n",
    "9|death_rate|float|0||0\n",
    "10|migration_rate|float|0||0\n",
    "11|created_at|datetime|0||0\n",
    "12|updated_at|datetime|0||0\n",
    "</pre>"
   ]
  },
  {
   "cell_type": "code",
   "execution_count": 13,
   "metadata": {
    "collapsed": false
   },
   "outputs": [
    {
     "name": "stdout",
     "output_type": "stream",
     "text": [
      "+---+-----+---------+----------+----------+----+--------------------+----------+---+--------------+--------------------+----------+-----------------+--------------------+\n",
      "| id| area|area_land|area_water|birth_rate|code|          created_at|death_rate| id|migration_rate|                name|population|population_growth|          updated_at|\n",
      "+---+-----+---------+----------+----------+----+--------------------+----------+---+--------------+--------------------+----------+-----------------+--------------------+\n",
      "|254| 5860|     5640|       220|     22.99|  we|2015-11-01 13:38:...|       3.5|254|           0.0|           West Bank|   2785366|             1.95|2015-11-01 13:38:...|\n",
      "|251|  360|      360|         0|     31.11|  gz|2015-11-01 13:38:...|      3.04|251|           0.0|          Gaza Strip|   1869055|             2.81|2015-11-01 13:38:...|\n",
      "|247| 1910|      346|      1564|     10.31|  vq|2015-11-01 13:38:...|      8.54|247|          7.67|      Virgin Islands|    103574|             0.59|2015-11-01 13:38:...|\n",
      "|246|13791|     8870|      4921|     10.86|  rq|2015-11-01 13:38:...|      8.67|246|          8.15|         Puerto Rico|   3598357|              0.6|2015-11-01 13:38:...|\n",
      "|245|  464|      464|         0|     18.32|  cq|2015-11-01 13:38:...|      3.71|245|          7.16|Northern Mariana ...|     52344|             2.18|2015-11-01 13:38:...|\n",
      "|243|  544|      544|         0|     16.82|  gq|2015-11-01 13:38:...|      5.12|243|          6.34|                Guam|    161785|             0.54|2015-11-01 13:38:...|\n",
      "|242|  199|      199|         0|     22.89|  aq|2015-11-01 13:38:...|      4.75|242|         21.13|      American Samoa|     54343|              0.3|2015-11-01 13:38:...|\n",
      "|241|  948|      948|         0|     16.13|  tk|2015-11-01 13:38:...|       3.1|241|          9.94|Turks and Caicos ...|     50280|              2.3|2015-11-01 13:38:...|\n",
      "|239|  308|      122|         0|      9.88|  sh|2015-11-01 13:38:...|      7.44|239|           0.0|Saint Helena, Asc...|      7795|             0.24|2015-11-01 13:38:...|\n",
      "|237|  102|      102|         0|     11.26|  mh|2015-11-01 13:38:...|       6.3|237|           0.0|          Montserrat|      5241|              0.5|2015-11-01 13:38:...|\n",
      "|236|  572|      572|         0|      11.1|  im|2015-11-01 13:38:...|     10.06|236|          6.56|         Isle of Man|     87545|             0.76|2015-11-01 13:38:...|\n",
      "|235|  116|      116|         0|     11.91|  je|2015-11-01 13:37:...|      7.68|235|          3.76|              Jersey|     97294|              0.8|2015-11-01 13:37:...|\n",
      "|234|   78|       78|         0|      9.84|  gk|2015-11-01 13:37:...|      8.78|234|          2.32|            Guernsey|     66080|             0.34|2015-11-01 13:37:...|\n",
      "|233|    6|        6|         0|     14.08|  gi|2015-11-01 13:37:...|      8.37|233|          3.28|           Gibraltar|     29258|             0.24|2015-11-01 13:37:...|\n",
      "|230|  264|      264|         0|     12.11|  cj|2015-11-01 13:37:...|      5.53|230|          14.4|      Cayman Islands|     56092|              2.1|2015-11-01 13:37:...|\n",
      "|229|  151|      151|         0|     10.91|  vi|2015-11-01 13:37:...|      4.99|229|         17.28|British Virgin Is...|     33454|             2.32|2015-11-01 13:37:...|\n",
      "|227|   54|       54|         0|     11.33|  bd|2015-11-01 13:37:...|      8.23|227|          1.88|             Bermuda|     70196|              0.5|2015-11-01 13:37:...|\n",
      "|226|   91|       91|         0|     12.67|  av|2015-11-01 13:37:...|      4.57|226|         12.18|            Anguilla|     16418|             2.03|2015-11-01 13:37:...|\n",
      "|218|   34|       34|         0|      13.0|  sk|2015-11-01 13:37:...|      4.51|218|          6.63|        Sint Maarten|     39689|             1.51|2015-11-01 13:37:...|\n",
      "|217|  444|      444|         0|      13.8|  cc|2015-11-01 13:37:...|       8.2|217|           1.4|             Curacao|    148406|             0.43|2015-11-01 13:37:...|\n",
      "+---+-----+---------+----------+----------+----+--------------------+----------+---+--------------+--------------------+----------+-----------------+--------------------+\n",
      "\n"
     ]
    }
   ],
   "source": [
    "# Write a SQL query that uses the ORDER BY and LIMIT statements to \n",
    "# select the entire row that has the highest id value\n",
    "query1 = \"\"\"\n",
    "SELECT id,* FROM facts \n",
    "ORDER BY id DESC\n",
    "LIMIT 20\n",
    "\"\"\"\n",
    "sqlCtx.sql(query1).show()"
   ]
  },
  {
   "cell_type": "markdown",
   "metadata": {},
   "source": [
    "This was executed locally on a laptop:\n",
    "\n",
    "<pre>\n",
    "sqlite> INSERT INTO facts\n",
    "VALUES (262, \"dq\", \"DataquestLand\", 60000, 40000, 20000, 500000, 100, 50, 10, 20, \"2016-02-25 12:00:00\", \"2016-02-25 12:00:00\");\n",
    "sqlite> SELECT * FROM facts  ORDER BY id DESC LIMIT 12;   \n",
    "262|dq|DataquestLand|60000|40000|20000|500000|100.0|50.0|10.0|20.0|2016-02-25 12:00:00|2016-02-25 12:00:00\n",
    "261|xx|World||||7256490011|1.08|18.6|7.8||2015-11-01 13:39:09.910721|2015-11-01 13:39:09.910721\n",
    "260|oo|Southern Ocean|||||||||2015-11-01 13:39:05.806048|2015-11-01 13:39:05.806048\n",
    "259|zn|Pacific Ocean|||||||||2015-11-01 13:39:04.179530|2015-11-01 13:39:04.179530\n",
    "258|xo|Indian Ocean|||||||||2015-11-01 13:39:02.723888|2015-11-01 13:39:02.723888\n",
    "257|zh|Atlantic Ocean|||||||||2015-11-01 13:39:01.255361|2015-11-01 13:39:01.255361\n",
    "256|xq|Arctic Ocean|||||||||2015-11-01 13:38:59.784157|2015-11-01 13:38:59.784157\n",
    "255|wi|Western Sahara|266000|266000|0|570866|2.82|30.24|8.34||2015-11-01 13:38:58.291161|2015-11-01 13:38:58.291161\n",
    "254|we|West Bank|5860|5640|220|2785366|1.95|22.99|3.5|0.0|2015-11-01 13:38:55.084643|2015-11-01 13:38:55.084643\n",
    "253|pg|Spratly Islands|5|5|0||||||2015-11-01 13:38:51.305215|2015-11-01 13:38:51.305215\n",
    "252|pf|Paracel Islands|7|7|0||||||2015-11-01 13:38:49.622992|2015-11-01 13:38:49.622992\n",
    "251|gz|Gaza Strip|360|360|0|1869055|2.81|31.11|3.04|0.0|2015-11-01 13:38:48.049460|2015-11-01 13:38:48.049460\n",
    "</pre>"
   ]
  },
  {
   "cell_type": "markdown",
   "metadata": {},
   "source": [
    "sqlite> SELECT * FROM facts WHERE area IS NULL;\n",
    "35|cd|Chad||1259200|24800|11631456|1.89|36.6|14.28|3.45|2015-11-01 13:22:42.673800|2015-11-01 13:22:42.673800\n",
    "128|ng|Niger||1266700|300|18045729|3.25|45.45|12.42|0.56|2015-11-01 13:30:34.606095|2015-11-01 13:30:34.606095\n",
    "210|fs|French Southern and Antarctic Lands|||||||||2015-11-01 13:36:43.532683|2015-11-01 13:36:43.532683\n",
    "212|tb|Saint Barthelemy||||7237|||||2015-11-01 13:36:49.817701|2015-11-01 13:36:49.817701\n",
    "249|um|United States Pacific Island Wildlife Refuges|||||||||2015-11-01 13:38:42.851318|2015-11-01 13:38:42.851318\n",
    "250|ay|Antarctica||280000||0|||||2015-11-01 13:38:44.885746|2015-11-01 13:38:44.885746\n",
    "256|xq|Arctic Ocean|||||||||2015-11-01 13:38:59.784157|2015-11-01 13:38:59.784157\n",
    "257|zh|Atlantic Ocean|||||||||2015-11-01 13:39:01.255361|2015-11-01 13:39:01.255361\n",
    "258|xo|Indian Ocean|||||||||2015-11-01 13:39:02.723888|2015-11-01 13:39:02.723888\n",
    "259|zn|Pacific Ocean|||||||||2015-11-01 13:39:04.179530|2015-11-01 13:39:04.179530\n",
    "260|oo|Southern Ocean|||||||||2015-11-01 13:39:05.806048|2015-11-01 13:39:05.806048\n",
    "261|xx|World||||7256490011|1.08|18.6|7.8||2015-11-01 13:39:09.910721|2015-11-01 13:39:09.910721\n",
    "263|dq|DataquestLand|||20000|500000|100.0|50.0|10.0|20.0|2016-02-25 12:00:00|2016-02-25 12:00:00"
   ]
  },
  {
   "cell_type": "markdown",
   "metadata": {},
   "source": [
    "<pre>\n",
    "sqlite> UPDATE facts\n",
    "SET name=\"DataquestLand\", code=\"dq\"\n",
    "WHERE name=\"United States\";   ...>    ...> \n",
    "sqlite> SELECT * FROM facts WHERE id=186;\n",
    "186|dq|DataquestLand|9826675|9161966|664709|321368864|0.78|12.49|8.15|3.86|2015-11-01 13:35:14.898271|2015-11-01 13:35:14.898271\n",
    "</pre>                "
   ]
  },
  {
   "cell_type": "code",
   "execution_count": null,
   "metadata": {
    "collapsed": true
   },
   "outputs": [],
   "source": []
  }
 ],
 "metadata": {
  "kernelspec": {
   "display_name": "Python 3",
   "language": "python",
   "name": "python3"
  },
  "language_info": {
   "codemirror_mode": {
    "name": "ipython",
    "version": 3
   },
   "file_extension": ".py",
   "mimetype": "text/x-python",
   "name": "python",
   "nbconvert_exporter": "python",
   "pygments_lexer": "ipython3",
   "version": "3.5.2"
  }
 },
 "nbformat": 4,
 "nbformat_minor": 1
}
