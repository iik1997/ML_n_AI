{
 "cells": [
  {
   "cell_type": "code",
   "execution_count": 1,
   "metadata": {
    "collapsed": true
   },
   "outputs": [],
   "source": [
    "###!wget http://courses.cs.washington.edu/courses/cse341/07wi/handouts/hamlet.txt\n",
    "###!ls"
   ]
  },
  {
   "cell_type": "code",
   "execution_count": 2,
   "metadata": {
    "collapsed": true
   },
   "outputs": [],
   "source": [
    "import pyspark\n",
    "sc = pyspark.SparkContext('local[*]')"
   ]
  },
  {
   "cell_type": "code",
   "execution_count": 3,
   "metadata": {
    "collapsed": true
   },
   "outputs": [],
   "source": [
    "# do something to prove it works\n",
    "rdd = sc.parallelize(range(1000))\n",
    "###rdd.takeSample(False, 5)"
   ]
  },
  {
   "cell_type": "code",
   "execution_count": 36,
   "metadata": {
    "collapsed": false
   },
   "outputs": [
    {
     "name": "stdout",
     "output_type": "stream",
     "text": [
      "CPU times: user 23.4 ms, sys: 3.13 ms, total: 26.5 ms\n",
      "Wall time: 393 ms\n"
     ]
    }
   ],
   "source": [
    "%%time\n",
    "raw_hamlet_zipped = sc.textFile('hamlet.txt').zipWithIndex()\n",
    "raw_hamlet = raw_hamlet_zipped.map(\n",
    "    lambda line: 'hamlet@{}\\t\\t{}'.format(line[1],line[0]) if len(line[0])>0 else 'hamlet@{}'.format(line[1]))\n",
    "raw_hamlet.take(25)"
   ]
  },
  {
   "cell_type": "code",
   "execution_count": 25,
   "metadata": {
    "collapsed": false
   },
   "outputs": [
    {
     "data": {
      "text/plain": [
       "[['hamlet@336',\n",
       "  '',\n",
       "  '  Ham. [aside] A little more than kin, and less than kind!'],\n",
       " ['hamlet@338', '', \"  Ham. Not so, my lord. I am too much i' th' sun.\"],\n",
       " ['hamlet@345', '', '  Ham. Ay, madam, it is common.'],\n",
       " ['hamlet@348', '', \"  Ham. Seems, madam, Nay, it is. I know not 'seems.'\"],\n",
       " ['hamlet@392', '', '  Ham. I shall in all my best obey you, madam.'],\n",
       " ['hamlet@402', '', '  Ham. O that this too too solid flesh would melt,'],\n",
       " ['hamlet@437', '', '  Ham. I am glad to see you well.'],\n",
       " ['hamlet@440',\n",
       "  '',\n",
       "  \"  Ham. Sir, my good friend- I'll change that name with you.\"],\n",
       " ['hamlet@444',\n",
       "  '',\n",
       "  '  Ham. I am very glad to see you.- [To Bernardo] Good even, sir.-  '],\n",
       " ['hamlet@447', '', '  Ham. I would not hear your enemy say so,'],\n",
       " ['hamlet@454', '', '  Ham. I prithee do not mock me, fellow student.'],\n",
       " ['hamlet@457', '', \"  Ham. Thrift, thrift, Horatio! The funeral bak'd meats\"],\n",
       " ['hamlet@463', '', \"  Ham. In my mind's eye, Horatio.\"],\n",
       " ['hamlet@465', '', '  Ham. He was a man, take him for all in all.'],\n",
       " ['hamlet@468', '', '  Ham. Saw? who?'],\n",
       " ['hamlet@470', '', '  Ham. The King my father?'],\n",
       " ['hamlet@475', '', \"  Ham. For God's love let me hear!\"],\n",
       " ['hamlet@493', '', '  Ham. But where was this?'],\n",
       " ['hamlet@495', '', '  Ham. Did you not speak to it?'],\n",
       " ['hamlet@503', '', \"  Ham. 'Tis very strange.\"],\n",
       " ['hamlet@507', '', '  Ham. Indeed, indeed, sirs. But this troubles me.'],\n",
       " ['hamlet@510', '', \"  Ham. Arm'd, say you?\"],\n",
       " ['hamlet@512', '', '  Ham. From top to toe?'],\n",
       " ['hamlet@514', '', '  Ham. Then saw you not his face?'],\n",
       " ['hamlet@516', '', \"  Ham. What, look'd he frowningly.\"]]"
      ]
     },
     "execution_count": 25,
     "metadata": {},
     "output_type": "execute_result"
    }
   ],
   "source": [
    "def filter_hamlet_speaks(line):\n",
    "    if \"Ham.\" in line: return True\n",
    "    return False\n",
    "hamlet_spoken_lines = raw_hamlet.filter(lambda line: filter_hamlet_speaks(line))\n",
    "split_hamlet = hamlet_spoken_lines.map(lambda line: line.split('\\t'))\n",
    "split_hamlet.take(25)"
   ]
  },
  {
   "cell_type": "code",
   "execution_count": 28,
   "metadata": {
    "collapsed": false
   },
   "outputs": [
    {
     "name": "stdout",
     "output_type": "stream",
     "text": [
      "358\n",
      "hamlet@1521\t\t  Ham. I will tell you why. So shall my anticipation prevent your\n"
     ]
    }
   ],
   "source": [
    "spoken_count = 0\n",
    "spoken_101 = list()\n",
    "spoken_count = hamlet_spoken_lines.count()\n",
    "print (spoken_count)\n",
    "#spoken_collect = hamlet_spoken_lines.collect()\n",
    "#spoken_101 = spoken_collect[100]\n",
    "spoken_101 = hamlet_spoken_lines.collect()[100]\n",
    "print (spoken_101)"
   ]
  },
  {
   "cell_type": "code",
   "execution_count": 33,
   "metadata": {
    "collapsed": false
   },
   "outputs": [
    {
     "data": {
      "text/plain": [
       "[['336',\n",
       "  '|',\n",
       "  '  Ham. [aside] A little more than kin, and less than kind!|',\n",
       "  '|'],\n",
       " ['338', '|', \"  Ham. Not so, my lord. I am too much i' th' sun.|\", '|'],\n",
       " ['345', '|', '  Ham. Ay, madam, it is common.|', '|'],\n",
       " ['348', '|', \"  Ham. Seems, madam, Nay, it is. I know not 'seems.'|\", '|'],\n",
       " ['392', '|', '  Ham. I shall in all my best obey you, madam.|', '|'],\n",
       " ['402', '|', '  Ham. O that this too too solid flesh would melt,|', '|'],\n",
       " ['437', '|', '  Ham. I am glad to see you well.|', '|'],\n",
       " ['440',\n",
       "  '|',\n",
       "  \"  Ham. Sir, my good friend- I'll change that name with you.|\",\n",
       "  '|'],\n",
       " ['444',\n",
       "  '|',\n",
       "  '  Ham. I am very glad to see you.- [To Bernardo] Good even, sir.-  |',\n",
       "  '|'],\n",
       " ['447', '|', '  Ham. I would not hear your enemy say so,|', '|'],\n",
       " ['454', '|', '  Ham. I prithee do not mock me, fellow student.|', '|'],\n",
       " ['457', '|', \"  Ham. Thrift, thrift, Horatio! The funeral bak'd meats|\", '|'],\n",
       " ['463', '|', \"  Ham. In my mind's eye, Horatio.|\", '|'],\n",
       " ['465', '|', '  Ham. He was a man, take him for all in all.|', '|'],\n",
       " ['468', '|', '  Ham. Saw? who?|', '|'],\n",
       " ['470', '|', '  Ham. The King my father?|', '|'],\n",
       " ['475', '|', \"  Ham. For God's love let me hear!|\", '|'],\n",
       " ['493', '|', '  Ham. But where was this?|', '|'],\n",
       " ['495', '|', '  Ham. Did you not speak to it?|', '|'],\n",
       " ['503', '|', \"  Ham. 'Tis very strange.|\", '|'],\n",
       " ['507', '|', '  Ham. Indeed, indeed, sirs. But this troubles me.|', '|'],\n",
       " ['510', '|', \"  Ham. Arm'd, say you?|\", '|'],\n",
       " ['512', '|', '  Ham. From top to toe?|', '|'],\n",
       " ['514', '|', '  Ham. Then saw you not his face?|', '|'],\n",
       " ['516', '|', \"  Ham. What, look'd he frowningly.|\", '|']]"
      ]
     },
     "execution_count": 33,
     "metadata": {},
     "output_type": "execute_result"
    }
   ],
   "source": [
    "def format_id(x):\n",
    "    id = x[0].split('@')[1]\n",
    "    results = list()\n",
    "    results.append(id)\n",
    "    if len(x) > 1:\n",
    "        for y in x[1:]:\n",
    "            results.append('{}{}'.format(y,'|'))\n",
    "    results.append('|')\n",
    "    return results\n",
    "\n",
    "hamlet_with_ids = split_hamlet.map(lambda line: format_id(line))\n",
    "hamlet_with_ids.take(25)"
   ]
  },
  {
   "cell_type": "code",
   "execution_count": 34,
   "metadata": {
    "collapsed": false
   },
   "outputs": [
    {
     "data": {
      "text/plain": [
       "[['336',\n",
       "  '|',\n",
       "  '  Ham. [aside] A little more than kin, and less than kind!|',\n",
       "  '|'],\n",
       " ['338', '|', \"  Ham. Not so, my lord. I am too much i' th' sun.|\", '|'],\n",
       " ['345', '|', '  Ham. Ay, madam, it is common.|', '|'],\n",
       " ['348', '|', \"  Ham. Seems, madam, Nay, it is. I know not 'seems.'|\", '|'],\n",
       " ['392', '|', '  Ham. I shall in all my best obey you, madam.|', '|'],\n",
       " ['402', '|', '  Ham. O that this too too solid flesh would melt,|', '|'],\n",
       " ['437', '|', '  Ham. I am glad to see you well.|', '|'],\n",
       " ['440',\n",
       "  '|',\n",
       "  \"  Ham. Sir, my good friend- I'll change that name with you.|\",\n",
       "  '|'],\n",
       " ['444',\n",
       "  '|',\n",
       "  '  Ham. I am very glad to see you.- [To Bernardo] Good even, sir.-  |',\n",
       "  '|'],\n",
       " ['447', '|', '  Ham. I would not hear your enemy say so,|', '|'],\n",
       " ['454', '|', '  Ham. I prithee do not mock me, fellow student.|', '|'],\n",
       " ['457', '|', \"  Ham. Thrift, thrift, Horatio! The funeral bak'd meats|\", '|'],\n",
       " ['463', '|', \"  Ham. In my mind's eye, Horatio.|\", '|'],\n",
       " ['465', '|', '  Ham. He was a man, take him for all in all.|', '|'],\n",
       " ['468', '|', '  Ham. Saw? who?|', '|'],\n",
       " ['470', '|', '  Ham. The King my father?|', '|'],\n",
       " ['475', '|', \"  Ham. For God's love let me hear!|\", '|'],\n",
       " ['493', '|', '  Ham. But where was this?|', '|'],\n",
       " ['495', '|', '  Ham. Did you not speak to it?|', '|'],\n",
       " ['503', '|', \"  Ham. 'Tis very strange.|\", '|'],\n",
       " ['507', '|', '  Ham. Indeed, indeed, sirs. But this troubles me.|', '|'],\n",
       " ['510', '|', \"  Ham. Arm'd, say you?|\", '|'],\n",
       " ['512', '|', '  Ham. From top to toe?|', '|'],\n",
       " ['514', '|', '  Ham. Then saw you not his face?|', '|'],\n",
       " ['516', '|', \"  Ham. What, look'd he frowningly.|\", '|']]"
      ]
     },
     "execution_count": 34,
     "metadata": {},
     "output_type": "execute_result"
    }
   ],
   "source": [
    "real_text = hamlet_with_ids.filter(lambda line: len(line) > 1)\n",
    "hamlet_text_only = real_text.map(lambda line: [l for l in line if l != ''])\n",
    "hamlet_text_only.take(25)"
   ]
  },
  {
   "cell_type": "code",
   "execution_count": 35,
   "metadata": {
    "collapsed": false
   },
   "outputs": [
    {
     "data": {
      "text/plain": [
       "[['336', '  Ham. [aside] A little more than kin, and less than kind! '],\n",
       " ['338', \"  Ham. Not so, my lord. I am too much i' th' sun. \"],\n",
       " ['345', '  Ham. Ay, madam, it is common. '],\n",
       " ['348', \"  Ham. Seems, madam, Nay, it is. I know not 'seems.' \"],\n",
       " ['392', '  Ham. I shall in all my best obey you, madam. '],\n",
       " ['402', '  Ham. O that this too too solid flesh would melt, '],\n",
       " ['437', '  Ham. I am glad to see you well. '],\n",
       " ['440', \"  Ham. Sir, my good friend- I'll change that name with you. \"],\n",
       " ['444',\n",
       "  '  Ham. I am very glad to see you.- [To Bernardo] Good even, sir.-   '],\n",
       " ['447', '  Ham. I would not hear your enemy say so, '],\n",
       " ['454', '  Ham. I prithee do not mock me, fellow student. '],\n",
       " ['457', \"  Ham. Thrift, thrift, Horatio! The funeral bak'd meats \"],\n",
       " ['463', \"  Ham. In my mind's eye, Horatio. \"],\n",
       " ['465', '  Ham. He was a man, take him for all in all. '],\n",
       " ['468', '  Ham. Saw? who? '],\n",
       " ['470', '  Ham. The King my father? '],\n",
       " ['475', \"  Ham. For God's love let me hear! \"],\n",
       " ['493', '  Ham. But where was this? '],\n",
       " ['495', '  Ham. Did you not speak to it? '],\n",
       " ['503', \"  Ham. 'Tis very strange. \"],\n",
       " ['507', '  Ham. Indeed, indeed, sirs. But this troubles me. '],\n",
       " ['510', \"  Ham. Arm'd, say you? \"],\n",
       " ['512', '  Ham. From top to toe? '],\n",
       " ['514', '  Ham. Then saw you not his face? '],\n",
       " ['516', \"  Ham. What, look'd he frowningly. \"]]"
      ]
     },
     "execution_count": 35,
     "metadata": {},
     "output_type": "execute_result"
    }
   ],
   "source": [
    "clean_hamlet = real_text.map(lambda line: [l.replace('|',' ') for l in line if l != '|'])\n",
    "clean_hamlet.take(25)"
   ]
  },
  {
   "cell_type": "code",
   "execution_count": null,
   "metadata": {
    "collapsed": true
   },
   "outputs": [],
   "source": []
  }
 ],
 "metadata": {
  "kernelspec": {
   "display_name": "Python 3",
   "language": "python",
   "name": "python3"
  },
  "language_info": {
   "codemirror_mode": {
    "name": "ipython",
    "version": 3
   },
   "file_extension": ".py",
   "mimetype": "text/x-python",
   "name": "python",
   "nbconvert_exporter": "python",
   "pygments_lexer": "ipython3",
   "version": "3.5.2"
  }
 },
 "nbformat": 4,
 "nbformat_minor": 1
}
